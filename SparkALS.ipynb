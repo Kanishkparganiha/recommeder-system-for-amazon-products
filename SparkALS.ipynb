{
 "cells": [
  {
   "cell_type": "code",
   "execution_count": 1,
   "id": "5627b35a",
   "metadata": {},
   "outputs": [],
   "source": [
    "import pandas as pd\n",
    "import matplotlib.pyplot as plt\n",
    "import numpy as np\n",
    "import seaborn as sns\n",
    "import pyspark\n",
    "from pyspark.sql import SparkSession\n",
    "from pyspark import SparkContext, SQLContext\n",
    "from pyspark.sql.types import StructType,StructField,IntegerType,FloatType,LongType,StringType\n",
    "from reco_utils.common.spark_utils import start_or_get_spark\n",
    "from reco_utils.dataset.spark_splitters import spark_random_split\n",
    "from pyspark.sql.functions import regexp_replace, col\n"
   ]
  },
  {
   "cell_type": "code",
   "execution_count": 2,
   "id": "e05c8a3f",
   "metadata": {},
   "outputs": [],
   "source": [
    "sc = pyspark.SparkContext()\n",
    "sql = SQLContext(sc)"
   ]
  },
  {
   "cell_type": "code",
   "execution_count": 3,
   "id": "a1a5df28",
   "metadata": {},
   "outputs": [],
   "source": [
    "spark = SparkSession \\\n",
    "    .builder \\\n",
    "    .appName(\"ALS\") \\\n",
    "    .getOrCreate()"
   ]
  },
  {
   "cell_type": "code",
   "execution_count": 4,
   "id": "3eeed9a7",
   "metadata": {},
   "outputs": [
    {
     "data": {
      "text/plain": [
       "'3.1.1'"
      ]
     },
     "execution_count": 4,
     "metadata": {},
     "output_type": "execute_result"
    }
   ],
   "source": [
    "spark.version"
   ]
  },
  {
   "cell_type": "code",
   "execution_count": 5,
   "id": "78039abd",
   "metadata": {},
   "outputs": [],
   "source": [
    "df = spark.read.csv('BX-Book-Ratings.csv',header=True\n",
    "                   ,sep=';')\n"
   ]
  },
  {
   "cell_type": "code",
   "execution_count": 6,
   "id": "a43b0172",
   "metadata": {},
   "outputs": [
    {
     "name": "stdout",
     "output_type": "stream",
     "text": [
      "+-------+----------+-----------+\n",
      "|User-ID|      ISBN|Book-Rating|\n",
      "+-------+----------+-----------+\n",
      "| 276725|034545104X|          0|\n",
      "| 276726|0155061224|          5|\n",
      "| 276727|0446520802|          0|\n",
      "| 276729|052165615X|          3|\n",
      "| 276729|0521795028|          6|\n",
      "| 276733|2080674722|          0|\n",
      "| 276736|3257224281|          8|\n",
      "| 276737|0600570967|          6|\n",
      "| 276744|038550120X|          7|\n",
      "| 276745| 342310538|         10|\n",
      "+-------+----------+-----------+\n",
      "only showing top 10 rows\n",
      "\n"
     ]
    }
   ],
   "source": [
    "df.show(10)"
   ]
  },
  {
   "cell_type": "markdown",
   "id": "4c040dac",
   "metadata": {},
   "source": [
    "### Remove Alphabet from aphanumeric ISBN Columns using 'withColumn' function"
   ]
  },
  {
   "cell_type": "code",
   "execution_count": 7,
   "id": "daf59f3e",
   "metadata": {},
   "outputs": [],
   "source": [
    "df=df.withColumn(\"ISBN\",regexp_replace(col(\"ISBN\"),\"[a-zA-Z]\",\"\"))\n"
   ]
  },
  {
   "cell_type": "code",
   "execution_count": 8,
   "id": "245c17cc",
   "metadata": {},
   "outputs": [],
   "source": [
    "COL_USER = \"User-ID\"\n",
    "COL_ITEM = \"ISBN\"\n",
    "COL_RATING = \"Book-Rating\"\n",
    "COL_PREDICTION = \"prediction\"\n",
    "\n",
    "schema=StructType(\n",
    "    (\n",
    "    StructField(COL_USER,LongType()),\n",
    "    StructField(COL_ITEM,LongType()),\n",
    "    StructField(COL_RATING,FloatType())))\n",
    "\n",
    "\n",
    "\n"
   ]
  },
  {
   "cell_type": "code",
   "execution_count": 9,
   "id": "caefb12d",
   "metadata": {},
   "outputs": [
    {
     "data": {
      "text/plain": [
       "Row(User-ID='276725', ISBN='034545104', Book-Rating='0')"
      ]
     },
     "execution_count": 9,
     "metadata": {},
     "output_type": "execute_result"
    }
   ],
   "source": [
    "df.first()"
   ]
  },
  {
   "cell_type": "markdown",
   "id": "763f4606",
   "metadata": {},
   "source": [
    "<h2>Changing the schema of the Dataframe using 'withColumn' method</h2>"
   ]
  },
  {
   "cell_type": "code",
   "execution_count": 10,
   "id": "ed1a3ca7",
   "metadata": {},
   "outputs": [],
   "source": [
    "df2 = df.withColumn(\"User-ID\",col(\"User-ID\").cast(IntegerType())) \\\n",
    "    .withColumn(\"ISBN\",col(\"ISBN\").cast(IntegerType())) \\\n",
    "    .withColumn(\"Book-Rating\",col(\"Book-Rating\").cast(FloatType()))"
   ]
  },
  {
   "cell_type": "code",
   "execution_count": 11,
   "id": "7c33437a",
   "metadata": {},
   "outputs": [
    {
     "name": "stdout",
     "output_type": "stream",
     "text": [
      "root\n",
      " |-- User-ID: string (nullable = true)\n",
      " |-- ISBN: string (nullable = true)\n",
      " |-- Book-Rating: string (nullable = true)\n",
      "\n"
     ]
    }
   ],
   "source": [
    "df.printSchema()"
   ]
  },
  {
   "cell_type": "code",
   "execution_count": 12,
   "id": "e28ef132",
   "metadata": {},
   "outputs": [
    {
     "name": "stdout",
     "output_type": "stream",
     "text": [
      "root\n",
      " |-- User-ID: integer (nullable = true)\n",
      " |-- ISBN: integer (nullable = true)\n",
      " |-- Book-Rating: float (nullable = true)\n",
      "\n"
     ]
    }
   ],
   "source": [
    "df2.printSchema()"
   ]
  },
  {
   "cell_type": "code",
   "execution_count": 13,
   "id": "273091f9",
   "metadata": {},
   "outputs": [
    {
     "name": "stdout",
     "output_type": "stream",
     "text": [
      "+---------+\n",
      "|     ISBN|\n",
      "+---------+\n",
      "| 34545104|\n",
      "|155061224|\n",
      "|446520802|\n",
      "| 52165615|\n",
      "|521795028|\n",
      "+---------+\n",
      "only showing top 5 rows\n",
      "\n"
     ]
    }
   ],
   "source": [
    "df2.select('ISBN').show(5)"
   ]
  },
  {
   "cell_type": "code",
   "execution_count": 14,
   "id": "d17f8176",
   "metadata": {},
   "outputs": [
    {
     "name": "stdout",
     "output_type": "stream",
     "text": [
      "+-------+---------+-----------+\n",
      "|User-ID|     ISBN|Book-Rating|\n",
      "+-------+---------+-----------+\n",
      "| 276725| 34545104|        0.0|\n",
      "| 276726|155061224|        5.0|\n",
      "| 276727|446520802|        0.0|\n",
      "| 276729| 52165615|        3.0|\n",
      "+-------+---------+-----------+\n",
      "only showing top 4 rows\n",
      "\n"
     ]
    }
   ],
   "source": [
    "df2.show(4)"
   ]
  },
  {
   "cell_type": "code",
   "execution_count": 15,
   "id": "bf98ebbb",
   "metadata": {},
   "outputs": [
    {
     "name": "stdout",
     "output_type": "stream",
     "text": [
      "+-------+------------------+--------------------+------------------+\n",
      "|summary|           User-ID|                ISBN|       Book-Rating|\n",
      "+-------+------------------+--------------------+------------------+\n",
      "|  count|           1149780|             1062289|           1149780|\n",
      "|   mean|140386.39512602412|5.3162145050241506E8|2.8669501991685364|\n",
      "| stddev| 80562.27771851176| 3.929768082443173E8| 3.854183859201656|\n",
      "|    min|                 2|                   0|               0.0|\n",
      "|    max|            278854|          2130530508|              10.0|\n",
      "+-------+------------------+--------------------+------------------+\n",
      "\n"
     ]
    }
   ],
   "source": [
    "df2.describe().show()"
   ]
  },
  {
   "cell_type": "code",
   "execution_count": 16,
   "id": "436e29bb",
   "metadata": {},
   "outputs": [
    {
     "name": "stdout",
     "output_type": "stream",
     "text": [
      "+-------+----+-----------+\n",
      "|User-ID|ISBN|Book-Rating|\n",
      "+-------+----+-----------+\n",
      "|      0|   0|          0|\n",
      "+-------+----+-----------+\n",
      "\n"
     ]
    }
   ],
   "source": [
    "from pyspark.sql.functions import isnan, when, count, col\n",
    "\n",
    "df2.select([count(when(isnan(c), c)).alias(c) for c in df.columns]).show()"
   ]
  },
  {
   "cell_type": "markdown",
   "id": "b06bff89",
   "metadata": {},
   "source": [
    "<h1 style=\"text-align:center\">Runnning SQL queries Programmatically</h1>"
   ]
  },
  {
   "cell_type": "code",
   "execution_count": 17,
   "id": "6ad0ff09",
   "metadata": {},
   "outputs": [],
   "source": [
    "df.createOrReplaceTempView(\"Book\")"
   ]
  },
  {
   "cell_type": "code",
   "execution_count": 18,
   "id": "7e642ca5",
   "metadata": {},
   "outputs": [],
   "source": [
    "sqlDF=spark.sql(\"select `User-ID`,count(*) as Frequency from Book group by `User-ID`\")"
   ]
  },
  {
   "cell_type": "code",
   "execution_count": 19,
   "id": "427c7fa4",
   "metadata": {},
   "outputs": [
    {
     "name": "stdout",
     "output_type": "stream",
     "text": [
      "+-------+---------+\n",
      "|User-ID|Frequency|\n",
      "+-------+---------+\n",
      "| 277594|        1|\n",
      "| 277840|        1|\n",
      "| 278220|        2|\n",
      "| 278659|        1|\n",
      "|   1436|       12|\n",
      "|   2136|       10|\n",
      "|   3959|        2|\n",
      "|   4032|        2|\n",
      "|   4821|        3|\n",
      "|   4937|        5|\n",
      "|   5325|        1|\n",
      "|   5925|        1|\n",
      "|   6613|        1|\n",
      "|   6731|       26|\n",
      "|   7711|        1|\n",
      "|   8433|        1|\n",
      "|   9030|        1|\n",
      "|   9583|        1|\n",
      "|   9586|        2|\n",
      "|   9993|        1|\n",
      "+-------+---------+\n",
      "only showing top 20 rows\n",
      "\n"
     ]
    }
   ],
   "source": [
    "sqlDF.show()"
   ]
  },
  {
   "cell_type": "code",
   "execution_count": 20,
   "id": "6d9d1a4b",
   "metadata": {},
   "outputs": [],
   "source": [
    "df2=df2.dropna()\n"
   ]
  },
  {
   "cell_type": "markdown",
   "id": "6021625e",
   "metadata": {},
   "source": [
    "<h1 style=\"color:red;text-align:center;\">Simple Algorithm for Recommendation (SAR)</h1>"
   ]
  },
  {
   "cell_type": "code",
   "execution_count": 21,
   "id": "93b37b0d",
   "metadata": {},
   "outputs": [],
   "source": [
    "from pyspark.ml.recommendation import ALS"
   ]
  },
  {
   "cell_type": "code",
   "execution_count": 22,
   "id": "7cfed188",
   "metadata": {},
   "outputs": [
    {
     "name": "stdout",
     "output_type": "stream",
     "text": [
      "+-------+--------+-----------+-------------+\n",
      "|User-ID|    ISBN|Book-Rating|   prediction|\n",
      "+-------+--------+-----------+-------------+\n",
      "| 238849| 6251380|        0.0|-0.0013460224|\n",
      "|  62398| 6722253|        0.0|          0.0|\n",
      "| 206979| 6722253|        0.0|  9.628192E-5|\n",
      "| 213255| 6724159|        0.0|    0.0168763|\n",
      "|  11676|15232657|        8.0|  0.017755082|\n",
      "| 218976|20427115|        5.0| 0.0080627855|\n",
      "| 103630|20427115|        0.0|-0.0016064765|\n",
      "| 187474|28604458|        7.0|          0.0|\n",
      "| 250729|28604458|        0.0|          0.0|\n",
      "| 167759|30080037|        5.0|          0.0|\n",
      "| 160541|34071252|        0.0|  3.930893E-4|\n",
      "|  17190|34543448|        0.0| -0.023150623|\n",
      "| 118848|34543448|        0.0|-0.0044455705|\n",
      "|  32440|34543448|        0.0| -0.014391618|\n",
      "| 104939|34543448|        0.0|   0.01275183|\n",
      "| 172742|34543448|       10.0|   0.06678126|\n",
      "|  70594|34543448|        0.0|   0.06193844|\n",
      "| 225810|34543448|        0.0|  0.036439203|\n",
      "| 159376|34543448|        0.0| 0.0017757429|\n",
      "| 227447|34543448|        5.0|   0.08156932|\n",
      "+-------+--------+-----------+-------------+\n",
      "only showing top 20 rows\n",
      "\n"
     ]
    }
   ],
   "source": [
    "# dataset split into training and testing set\n",
    "(training, test) = df2.randomSplit([0.8, 0.2])\n",
    "# training the model\n",
    "als = ALS(maxIter=5, implicitPrefs=True,userCol=\"User-ID\", itemCol=\"ISBN\", ratingCol=\"Book-Rating\",coldStartStrategy=\"drop\")\n",
    "model = als.fit(training)\n",
    "# predict using the testing datatset\n",
    "predictions = model.transform(test)\n",
    "predictions.show()"
   ]
  },
  {
   "cell_type": "code",
   "execution_count": 29,
   "id": "fd466ce2",
   "metadata": {},
   "outputs": [
    {
     "data": {
      "text/plain": [
       "Row(User-ID=2, ISBN=195153448, Book-Rating=0.0)"
      ]
     },
     "execution_count": 29,
     "metadata": {},
     "output_type": "execute_result"
    }
   ],
   "source": [
    "\n",
    "test.first()"
   ]
  },
  {
   "cell_type": "code",
   "execution_count": 118,
   "id": "ac600529",
   "metadata": {},
   "outputs": [
    {
     "data": {
      "text/plain": [
       "1062289"
      ]
     },
     "execution_count": 118,
     "metadata": {},
     "output_type": "execute_result"
    }
   ],
   "source": [
    "df2.count()"
   ]
  },
  {
   "cell_type": "code",
   "execution_count": 119,
   "id": "7bf75660",
   "metadata": {},
   "outputs": [
    {
     "name": "stdout",
     "output_type": "stream",
     "text": [
      "+-------+----------+-----------+\n",
      "|User-ID|      ISBN|Book-Rating|\n",
      "+-------+----------+-----------+\n",
      "|      2| 195153448|          0|\n",
      "|      7|  34542252|          0|\n",
      "|      8|   2005018|          5|\n",
      "|      8|  74322678|          5|\n",
      "|      8|  80652121|          0|\n",
      "|      8| 374157065|          0|\n",
      "|      8| 393045218|          0|\n",
      "|      8| 425176428|          0|\n",
      "|      8| 679425608|          0|\n",
      "|      8| 887841740|          5|\n",
      "|      8|1552041778|          5|\n",
      "|      8|1558746218|          0|\n",
      "|      8|1567407781|          6|\n",
      "|      8|1575663937|          6|\n",
      "|      8|1881320189|          7|\n",
      "|      9| 440234743|          0|\n",
      "|     10|1841721522|          0|\n",
      "|     12|1879384493|         10|\n",
      "|     14|  61076031|          5|\n",
      "|     14| 439095026|          5|\n",
      "+-------+----------+-----------+\n",
      "only showing top 20 rows\n",
      "\n"
     ]
    }
   ],
   "source": [
    "training.show()\n"
   ]
  },
  {
   "cell_type": "code",
   "execution_count": 120,
   "id": "c8f4a001",
   "metadata": {},
   "outputs": [],
   "source": [
    "sc.setCheckpointDir('checkpoint/')\n",
    "ALS.checkpointInterval = 2"
   ]
  },
  {
   "cell_type": "code",
   "execution_count": null,
   "id": "86e31794",
   "metadata": {},
   "outputs": [],
   "source": [
    "df_2=sc.textFile(\"rating.csv\")"
   ]
  },
  {
   "cell_type": "code",
   "execution_count": 5,
   "id": "4b8002c3",
   "metadata": {},
   "outputs": [],
   "source": [
    "spark = SQLContext(sc)                                                                             \n",
    "df = spark.createDataFrame([(0, \"a\"), (1, \"b\"), (2, \"c\"), (3, \"a\"), (4, \"a\"), (5, \"c\")],[\"id\", \"category\"])"
   ]
  },
  {
   "cell_type": "code",
   "execution_count": 8,
   "id": "34d83eec",
   "metadata": {},
   "outputs": [],
   "source": [
    "stringIndexer = StringIndexer(inputCol=\"category\", outputCol=\"categoryIndex\")"
   ]
  },
  {
   "cell_type": "code",
   "execution_count": 9,
   "id": "9074657a",
   "metadata": {},
   "outputs": [],
   "source": [
    "model = stringIndexer.fit(df)"
   ]
  },
  {
   "cell_type": "code",
   "execution_count": 10,
   "id": "34d0a3fa",
   "metadata": {},
   "outputs": [],
   "source": [
    "indexed = model.transform(df)"
   ]
  },
  {
   "cell_type": "code",
   "execution_count": 11,
   "id": "627dfd50",
   "metadata": {},
   "outputs": [
    {
     "name": "stdout",
     "output_type": "stream",
     "text": [
      "+---+--------+-------------+\n",
      "| id|category|categoryIndex|\n",
      "+---+--------+-------------+\n",
      "|  0|       a|          0.0|\n",
      "|  1|       b|          2.0|\n",
      "|  2|       c|          1.0|\n",
      "|  3|       a|          0.0|\n",
      "|  4|       a|          0.0|\n",
      "|  5|       c|          1.0|\n",
      "+---+--------+-------------+\n",
      "\n"
     ]
    }
   ],
   "source": [
    "indexed.show()"
   ]
  },
  {
   "cell_type": "code",
   "execution_count": null,
   "id": "cc93f499",
   "metadata": {},
   "outputs": [],
   "source": []
  }
 ],
 "metadata": {
  "kernelspec": {
   "display_name": "Python 3",
   "language": "python",
   "name": "python3"
  },
  "language_info": {
   "codemirror_mode": {
    "name": "ipython",
    "version": 3
   },
   "file_extension": ".py",
   "mimetype": "text/x-python",
   "name": "python",
   "nbconvert_exporter": "python",
   "pygments_lexer": "ipython3",
   "version": "3.8.5"
  }
 },
 "nbformat": 4,
 "nbformat_minor": 5
}
